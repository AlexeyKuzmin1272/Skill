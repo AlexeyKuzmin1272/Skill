{
 "cells": [
  {
   "cell_type": "code",
   "execution_count": 1,
   "metadata": {},
   "outputs": [
    {
     "name": "stdout",
     "output_type": "stream",
     "text": [
      "107\n",
      "Counter({'page': 74, 'datepicker': 15, 'table': 10, 'report': 8})\n",
      "[27115, 27115, 27115, 27115, 60459, 60459, 60459, 60459, 58113, 58113]\n",
      "Counter({27115: 4, 60459: 4, 58113: 2})\n"
     ]
    }
   ],
   "source": [
    "import json\n",
    "with open('data.json', 'rb') as infile:\n",
    "    data = json.load(infile)\n",
    "#data.keys()    \n",
    "#data['events_data']\n",
    "data_list = data['events_data']\n",
    "print(len(data_list))\n",
    "categories = []\n",
    "for item in data_list:\n",
    "    category = item['category']\n",
    "    categories.append(category)\n",
    "#print (categories)\n",
    "import collections\n",
    "c = collections.Counter()\n",
    "for category in categories:\n",
    "    c[category] += 1\n",
    "print (c)\n",
    "table_clients = []\n",
    "\n",
    "for item in data_list:\n",
    "    client_id = item['client_id']\n",
    "    category = item['category']\n",
    "    if category == 'table':\n",
    "        table_clients.append(client_id)\n",
    "print (table_clients)\n",
    "c = collections.Counter()\n",
    "for table_client in table_clients:\n",
    "    c[table_client] += 1\n",
    "print (c)"
   ]
  },
  {
   "cell_type": "code",
   "execution_count": 7,
   "metadata": {},
   "outputs": [
    {
     "name": "stdout",
     "output_type": "stream",
     "text": [
      "107\n"
     ]
    }
   ],
   "source": [
    "import json\n",
    "with open('data.json', 'rb') as infile:\n",
    "    data = json.load(infile)\n",
    "type(data)\n",
    "data.keys()\n",
    "\n",
    "data_list = data['events_data']\n",
    "print(len(data_list)) #смотрим длину массива"
   ]
  },
  {
   "cell_type": "code",
   "execution_count": 10,
   "metadata": {},
   "outputs": [
    {
     "name": "stdout",
     "output_type": "stream",
     "text": [
      "['page', 'page', 'page', 'datepicker', 'table', 'table', 'table', 'table', 'datepicker', 'datepicker', 'datepicker', 'datepicker', 'datepicker', 'page', 'page', 'page', 'page', 'page', 'page', 'page', 'page', 'page', 'page', 'page', 'page', 'page', 'page', 'page', 'page', 'page', 'page', 'page', 'page', 'report', 'report', 'report', 'report', 'page', 'report', 'page', 'page', 'page', 'table', 'table', 'table', 'table', 'page', 'page', 'page', 'page', 'page', 'page', 'page', 'page', 'page', 'page', 'page', 'page', 'report', 'page', 'page', 'page', 'page', 'page', 'report', 'page', 'page', 'page', 'page', 'page', 'page', 'page', 'page', 'page', 'page', 'page', 'page', 'page', 'datepicker', 'datepicker', 'datepicker', 'datepicker', 'datepicker', 'datepicker', 'datepicker', 'page', 'page', 'page', 'page', 'page', 'page', 'report', 'table', 'table', 'datepicker', 'datepicker', 'page', 'page', 'page', 'page', 'page', 'page', 'page', 'page', 'page', 'page', 'page']\n",
      "Counter({'page': 74, 'datepicker': 15, 'table': 10, 'report': 8})\n"
     ]
    }
   ],
   "source": [
    "import collections\n",
    "categories = []\n",
    "for item in data_list:\n",
    "    category = item['category']\n",
    "    categories.append(category)\n",
    "print (categories)\n",
    "\n",
    "c = collections.Counter()\n",
    "for category in categories:\n",
    "    c[category] += 1\n",
    "print (c)\n",
    "table_clients = []"
   ]
  },
  {
   "cell_type": "code",
   "execution_count": 58,
   "metadata": {},
   "outputs": [
    {
     "name": "stdout",
     "output_type": "stream",
     "text": [
      "[27115, 27115, 27115, 27115, 60459, 60459, 60459, 60459, 58113, 58113]\n",
      "27115\n",
      "Состав словаря:  Counter({27115: 4, 60459: 4, 58113: 2})\n",
      "Ключей в словаре:  3\n",
      "Уникальные элементы:  [27115, 60459, 58113]\n",
      "Уникальных элементов в словаре:  3\n",
      "Информация по конктретному клиенту из коллекции:  4\n",
      "Информация по конктретному клиенту через словарь:  2\n"
     ]
    }
   ],
   "source": [
    "import json\n",
    "#читаем содержимое файла в data\n",
    "with open('data.json', 'rb') as infile:\n",
    "    data = json.load(infile)\n",
    "type(data)\n",
    "data.keys()\n",
    "\n",
    "#заполняем массив data_list данными из массива data['events_data']\n",
    "data_list = data['events_data']\n",
    "\n",
    "#заполняем массив table_clients данными из массива data_list только в тех случаях, где category = 'table'\n",
    "table_clients = []\n",
    "for item in data_list:\n",
    "    client_id = item['client_id']\n",
    "    category = item['category']\n",
    "    if category == 'table':\n",
    "        table_clients.append(client_id)\n",
    "print (table_clients)\n",
    "print (table_clients[1])\n",
    "c = collections.Counter()\n",
    "for table_client in table_clients:\n",
    "    c[table_client] += 1\n",
    "    #print (table_client)\n",
    "print ('Состав словаря: ', c)\n",
    "print ('Ключей в словаре: ', len(c.keys()))\n",
    "print ('Уникальные элементы: ', list(c))\n",
    "print ('Уникальных элементов в словаре: ', len(list(c)))\n",
    "print ('Информация по конктретному клиенту из коллекции: ', c[27115])\n",
    "cd = dict(c)\n",
    "print ('Информация по конктретному клиенту через словарь: ', cd[58113])\n",
    "#print(list(c.elements())) # возвращает список элементов в лексикографическом порядке.\n",
    "#sum(c.values()) - общее количество.\n",
    "#c.clear() - очистить счётчик.\n",
    "#list(c) - список уникальных элементов.\n",
    "#set(c) - преобразовать в множество.\n",
    "#dict(c) - преобразовать в словарь.\n",
    "#c.most_common()[:-n:-1] - n наименее часто встречающихся элементов.\n",
    "#c += Counter() - удалить элементы, встречающиеся менее одного раза."
   ]
  },
  {
   "cell_type": "code",
   "execution_count": null,
   "metadata": {},
   "outputs": [],
   "source": []
  },
  {
   "cell_type": "code",
   "execution_count": null,
   "metadata": {},
   "outputs": [],
   "source": []
  }
 ],
 "metadata": {
  "kernelspec": {
   "display_name": "Python 3",
   "language": "python",
   "name": "python3"
  },
  "language_info": {
   "codemirror_mode": {
    "name": "ipython",
    "version": 3
   },
   "file_extension": ".py",
   "mimetype": "text/x-python",
   "name": "python",
   "nbconvert_exporter": "python",
   "pygments_lexer": "ipython3",
   "version": "3.8.5"
  }
 },
 "nbformat": 4,
 "nbformat_minor": 4
}
