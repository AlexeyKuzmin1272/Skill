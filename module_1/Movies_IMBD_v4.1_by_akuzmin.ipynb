{
 "cells": [
  {
   "cell_type": "code",
   "execution_count": 23,
   "metadata": {
    "_cell_guid": "b1076dfc-b9ad-4769-8c92-a6c4dae69d19",
    "_uuid": "8f2839f25d086af736a60e9eeb907d3b93b6e0e5",
    "colab": {},
    "colab_type": "code",
    "id": "U2D2gTdJVp90"
   },
   "outputs": [],
   "source": [
    "import numpy as np\n",
    "import pandas as pd\n",
    "import seaborn as sns\n",
    "import matplotlib.pyplot as plt\n",
    "import collections as col\n",
    "import re\n",
    "import datetime as dt\n",
    "import itertools\n",
    "from statistics import median"
   ]
  },
  {
   "cell_type": "code",
   "execution_count": 24,
   "metadata": {
    "_cell_guid": "79c7e3d0-c299-4dcb-8224-4455121ee9b0",
    "_uuid": "d629ff2d2480ee46fbb7e2d37f6b5fab8052498a",
    "colab": {},
    "colab_type": "code",
    "id": "oyGfxL3eVp9-"
   },
   "outputs": [
    {
     "data": {
      "text/html": [
       "<div>\n",
       "<style scoped>\n",
       "    .dataframe tbody tr th:only-of-type {\n",
       "        vertical-align: middle;\n",
       "    }\n",
       "\n",
       "    .dataframe tbody tr th {\n",
       "        vertical-align: top;\n",
       "    }\n",
       "\n",
       "    .dataframe thead th {\n",
       "        text-align: right;\n",
       "    }\n",
       "</style>\n",
       "<table border=\"1\" class=\"dataframe\">\n",
       "  <thead>\n",
       "    <tr style=\"text-align: right;\">\n",
       "      <th></th>\n",
       "      <th>imdb_id</th>\n",
       "      <th>budget</th>\n",
       "      <th>revenue</th>\n",
       "      <th>original_title</th>\n",
       "      <th>cast</th>\n",
       "      <th>director</th>\n",
       "      <th>tagline</th>\n",
       "      <th>overview</th>\n",
       "      <th>runtime</th>\n",
       "      <th>genres</th>\n",
       "      <th>production_companies</th>\n",
       "      <th>release_date</th>\n",
       "      <th>vote_average</th>\n",
       "      <th>release_year</th>\n",
       "    </tr>\n",
       "  </thead>\n",
       "  <tbody>\n",
       "    <tr>\n",
       "      <th>903</th>\n",
       "      <td>tt0278504</td>\n",
       "      <td>46000000</td>\n",
       "      <td>113714830</td>\n",
       "      <td>Insomnia</td>\n",
       "      <td>Al Pacino|Robin Williams|Maura Tierney|Hilary ...</td>\n",
       "      <td>Christopher Nolan</td>\n",
       "      <td>A tough cop. A brilliant killer. An unspeakabl...</td>\n",
       "      <td>Two Los Angeles homicide detectives are dispat...</td>\n",
       "      <td>118</td>\n",
       "      <td>Crime|Mystery|Thriller</td>\n",
       "      <td>Section Eight|Alcon Entertainment|Witt/Thomas ...</td>\n",
       "      <td>5/24/2002</td>\n",
       "      <td>6.6</td>\n",
       "      <td>2002</td>\n",
       "    </tr>\n",
       "    <tr>\n",
       "      <th>1177</th>\n",
       "      <td>tt2294629</td>\n",
       "      <td>150000000</td>\n",
       "      <td>1274219009</td>\n",
       "      <td>Frozen</td>\n",
       "      <td>Kristen Bell|Idina Menzel|Jonathan Groff|Josh ...</td>\n",
       "      <td>Chris Buck|Jennifer Lee</td>\n",
       "      <td>Only the act of true love will thaw a frozen h...</td>\n",
       "      <td>Young princess Anna of Arendelle dreams about ...</td>\n",
       "      <td>102</td>\n",
       "      <td>Animation|Adventure|Family</td>\n",
       "      <td>Walt Disney Pictures|Walt Disney Animation Stu...</td>\n",
       "      <td>11/27/2013</td>\n",
       "      <td>7.5</td>\n",
       "      <td>2013</td>\n",
       "    </tr>\n",
       "    <tr>\n",
       "      <th>1100</th>\n",
       "      <td>tt0316396</td>\n",
       "      <td>100000000</td>\n",
       "      <td>121975011</td>\n",
       "      <td>Peter Pan</td>\n",
       "      <td>Jeremy Sumpter|Jason Isaacs|Rachel Hurd-Wood|R...</td>\n",
       "      <td>P.J. Hogan</td>\n",
       "      <td>All children grow up except one.</td>\n",
       "      <td>In stifling Edwardian London, Wendy Darling me...</td>\n",
       "      <td>113</td>\n",
       "      <td>Adventure|Fantasy|Family</td>\n",
       "      <td>Columbia Pictures|Universal Pictures|Revolutio...</td>\n",
       "      <td>12/25/2003</td>\n",
       "      <td>6.7</td>\n",
       "      <td>2003</td>\n",
       "    </tr>\n",
       "    <tr>\n",
       "      <th>1689</th>\n",
       "      <td>tt0765429</td>\n",
       "      <td>100000000</td>\n",
       "      <td>266465037</td>\n",
       "      <td>American Gangster</td>\n",
       "      <td>Denzel Washington|Russell Crowe|Chiwetel Ejiof...</td>\n",
       "      <td>Ridley Scott</td>\n",
       "      <td>There are two sides to the American dream.</td>\n",
       "      <td>Following the death of his employer and mentor...</td>\n",
       "      <td>157</td>\n",
       "      <td>Drama|Crime</td>\n",
       "      <td>Imagine Entertainment|Universal Pictures|Scott...</td>\n",
       "      <td>11/2/2007</td>\n",
       "      <td>7.3</td>\n",
       "      <td>2007</td>\n",
       "    </tr>\n",
       "    <tr>\n",
       "      <th>209</th>\n",
       "      <td>tt2345737</td>\n",
       "      <td>12250000</td>\n",
       "      <td>2295423</td>\n",
       "      <td>The Rover</td>\n",
       "      <td>Guy Pearce|Robert Pattinson|Scoot McNairy|Nash...</td>\n",
       "      <td>David MichÃ´d</td>\n",
       "      <td>Fear the man with nothing left to lose.</td>\n",
       "      <td>A decade after the collapse of the western wor...</td>\n",
       "      <td>100</td>\n",
       "      <td>Crime|Drama</td>\n",
       "      <td>Porchlight Films|FilmNation Entertainment|Scre...</td>\n",
       "      <td>5/18/2014</td>\n",
       "      <td>6.0</td>\n",
       "      <td>2014</td>\n",
       "    </tr>\n",
       "  </tbody>\n",
       "</table>\n",
       "</div>"
      ],
      "text/plain": [
       "        imdb_id     budget     revenue     original_title  \\\n",
       "903   tt0278504   46000000   113714830           Insomnia   \n",
       "1177  tt2294629  150000000  1274219009             Frozen   \n",
       "1100  tt0316396  100000000   121975011          Peter Pan   \n",
       "1689  tt0765429  100000000   266465037  American Gangster   \n",
       "209   tt2345737   12250000     2295423          The Rover   \n",
       "\n",
       "                                                   cast  \\\n",
       "903   Al Pacino|Robin Williams|Maura Tierney|Hilary ...   \n",
       "1177  Kristen Bell|Idina Menzel|Jonathan Groff|Josh ...   \n",
       "1100  Jeremy Sumpter|Jason Isaacs|Rachel Hurd-Wood|R...   \n",
       "1689  Denzel Washington|Russell Crowe|Chiwetel Ejiof...   \n",
       "209   Guy Pearce|Robert Pattinson|Scoot McNairy|Nash...   \n",
       "\n",
       "                     director  \\\n",
       "903         Christopher Nolan   \n",
       "1177  Chris Buck|Jennifer Lee   \n",
       "1100               P.J. Hogan   \n",
       "1689             Ridley Scott   \n",
       "209             David MichÃ´d   \n",
       "\n",
       "                                                tagline  \\\n",
       "903   A tough cop. A brilliant killer. An unspeakabl...   \n",
       "1177  Only the act of true love will thaw a frozen h...   \n",
       "1100                   All children grow up except one.   \n",
       "1689         There are two sides to the American dream.   \n",
       "209             Fear the man with nothing left to lose.   \n",
       "\n",
       "                                               overview  runtime  \\\n",
       "903   Two Los Angeles homicide detectives are dispat...      118   \n",
       "1177  Young princess Anna of Arendelle dreams about ...      102   \n",
       "1100  In stifling Edwardian London, Wendy Darling me...      113   \n",
       "1689  Following the death of his employer and mentor...      157   \n",
       "209   A decade after the collapse of the western wor...      100   \n",
       "\n",
       "                          genres  \\\n",
       "903       Crime|Mystery|Thriller   \n",
       "1177  Animation|Adventure|Family   \n",
       "1100    Adventure|Fantasy|Family   \n",
       "1689                 Drama|Crime   \n",
       "209                  Crime|Drama   \n",
       "\n",
       "                                   production_companies release_date  \\\n",
       "903   Section Eight|Alcon Entertainment|Witt/Thomas ...    5/24/2002   \n",
       "1177  Walt Disney Pictures|Walt Disney Animation Stu...   11/27/2013   \n",
       "1100  Columbia Pictures|Universal Pictures|Revolutio...   12/25/2003   \n",
       "1689  Imagine Entertainment|Universal Pictures|Scott...    11/2/2007   \n",
       "209   Porchlight Films|FilmNation Entertainment|Scre...    5/18/2014   \n",
       "\n",
       "      vote_average  release_year  \n",
       "903            6.6          2002  \n",
       "1177           7.5          2013  \n",
       "1100           6.7          2003  \n",
       "1689           7.3          2007  \n",
       "209            6.0          2014  "
      ]
     },
     "execution_count": 24,
     "metadata": {},
     "output_type": "execute_result"
    }
   ],
   "source": [
    "data = pd.read_csv('movie_bd_v5.csv')\n",
    "data.sample(5)"
   ]
  },
  {
   "cell_type": "code",
   "execution_count": 25,
   "metadata": {
    "colab": {},
    "colab_type": "code",
    "id": "CoYUnagMVp-C"
   },
   "outputs": [
    {
     "data": {
      "text/html": [
       "<div>\n",
       "<style scoped>\n",
       "    .dataframe tbody tr th:only-of-type {\n",
       "        vertical-align: middle;\n",
       "    }\n",
       "\n",
       "    .dataframe tbody tr th {\n",
       "        vertical-align: top;\n",
       "    }\n",
       "\n",
       "    .dataframe thead th {\n",
       "        text-align: right;\n",
       "    }\n",
       "</style>\n",
       "<table border=\"1\" class=\"dataframe\">\n",
       "  <thead>\n",
       "    <tr style=\"text-align: right;\">\n",
       "      <th></th>\n",
       "      <th>budget</th>\n",
       "      <th>revenue</th>\n",
       "      <th>runtime</th>\n",
       "      <th>vote_average</th>\n",
       "      <th>release_year</th>\n",
       "    </tr>\n",
       "  </thead>\n",
       "  <tbody>\n",
       "    <tr>\n",
       "      <th>count</th>\n",
       "      <td>1.889000e+03</td>\n",
       "      <td>1.889000e+03</td>\n",
       "      <td>1889.000000</td>\n",
       "      <td>1889.000000</td>\n",
       "      <td>1889.000000</td>\n",
       "    </tr>\n",
       "    <tr>\n",
       "      <th>mean</th>\n",
       "      <td>5.431083e+07</td>\n",
       "      <td>1.553653e+08</td>\n",
       "      <td>109.658549</td>\n",
       "      <td>6.140762</td>\n",
       "      <td>2007.860773</td>\n",
       "    </tr>\n",
       "    <tr>\n",
       "      <th>std</th>\n",
       "      <td>4.858721e+07</td>\n",
       "      <td>2.146698e+08</td>\n",
       "      <td>18.017041</td>\n",
       "      <td>0.764763</td>\n",
       "      <td>4.468841</td>\n",
       "    </tr>\n",
       "    <tr>\n",
       "      <th>min</th>\n",
       "      <td>5.000000e+06</td>\n",
       "      <td>2.033165e+06</td>\n",
       "      <td>63.000000</td>\n",
       "      <td>3.300000</td>\n",
       "      <td>2000.000000</td>\n",
       "    </tr>\n",
       "    <tr>\n",
       "      <th>25%</th>\n",
       "      <td>2.000000e+07</td>\n",
       "      <td>3.456058e+07</td>\n",
       "      <td>97.000000</td>\n",
       "      <td>5.600000</td>\n",
       "      <td>2004.000000</td>\n",
       "    </tr>\n",
       "    <tr>\n",
       "      <th>50%</th>\n",
       "      <td>3.800000e+07</td>\n",
       "      <td>8.361541e+07</td>\n",
       "      <td>107.000000</td>\n",
       "      <td>6.100000</td>\n",
       "      <td>2008.000000</td>\n",
       "    </tr>\n",
       "    <tr>\n",
       "      <th>75%</th>\n",
       "      <td>7.200000e+07</td>\n",
       "      <td>1.782626e+08</td>\n",
       "      <td>120.000000</td>\n",
       "      <td>6.600000</td>\n",
       "      <td>2012.000000</td>\n",
       "    </tr>\n",
       "    <tr>\n",
       "      <th>max</th>\n",
       "      <td>3.800000e+08</td>\n",
       "      <td>2.781506e+09</td>\n",
       "      <td>214.000000</td>\n",
       "      <td>8.100000</td>\n",
       "      <td>2015.000000</td>\n",
       "    </tr>\n",
       "  </tbody>\n",
       "</table>\n",
       "</div>"
      ],
      "text/plain": [
       "             budget       revenue      runtime  vote_average  release_year\n",
       "count  1.889000e+03  1.889000e+03  1889.000000   1889.000000   1889.000000\n",
       "mean   5.431083e+07  1.553653e+08   109.658549      6.140762   2007.860773\n",
       "std    4.858721e+07  2.146698e+08    18.017041      0.764763      4.468841\n",
       "min    5.000000e+06  2.033165e+06    63.000000      3.300000   2000.000000\n",
       "25%    2.000000e+07  3.456058e+07    97.000000      5.600000   2004.000000\n",
       "50%    3.800000e+07  8.361541e+07   107.000000      6.100000   2008.000000\n",
       "75%    7.200000e+07  1.782626e+08   120.000000      6.600000   2012.000000\n",
       "max    3.800000e+08  2.781506e+09   214.000000      8.100000   2015.000000"
      ]
     },
     "execution_count": 25,
     "metadata": {},
     "output_type": "execute_result"
    }
   ],
   "source": [
    "data.describe()"
   ]
  },
  {
   "cell_type": "markdown",
   "metadata": {
    "colab_type": "text",
    "id": "DTIt7ezGVp-G"
   },
   "source": [
    "# Предобработка"
   ]
  },
  {
   "cell_type": "code",
   "execution_count": 26,
   "metadata": {
    "colab": {},
    "colab_type": "code",
    "id": "jNb40DwKVp-H"
   },
   "outputs": [],
   "source": [
    "answers = {} # создадим словарь для ответов\n",
    "\n",
    "# тут другие ваши предобработки колонок например:\n",
    "\n",
    "#the time given in the dataset is in string format.\n",
    "#So we need to change this in datetime format\n",
    "# ..\n",
    "data[\"profit\"]= data[\"revenue\"] - data[\"budget\"]\n",
    "\n",
    "#data\n"
   ]
  },
  {
   "cell_type": "markdown",
   "metadata": {
    "colab_type": "text",
    "id": "YxZaH-nPVp-L"
   },
   "source": [
    "# 1. У какого фильма из списка самый большой бюджет?"
   ]
  },
  {
   "cell_type": "markdown",
   "metadata": {
    "colab_type": "text",
    "id": "Nd-G5gX6Vp-M"
   },
   "source": [
    "Использовать варианты ответов в коде решения запрещено.    \n",
    "Вы думаете и в жизни у вас будут варианты ответов?)"
   ]
  },
  {
   "cell_type": "code",
   "execution_count": 6,
   "metadata": {
    "colab": {},
    "colab_type": "code",
    "id": "uVnXAY5RVp-O"
   },
   "outputs": [],
   "source": [
    "# в словарь вставляем номер вопроса и ваш ответ на него\n",
    "# Пример: \n",
    "#answers['1'] = '2. Spider-Man 3 (tt0413300)'\n",
    "# запишите свой вариант ответа\n",
    "#answers['1'] = '...'\n",
    "# если ответили верно, можете добавить комментарий со значком \"+\""
   ]
  },
  {
   "cell_type": "code",
   "execution_count": 27,
   "metadata": {
    "colab": {},
    "colab_type": "code",
    "id": "dZwb3m28Vp-S"
   },
   "outputs": [
    {
     "name": "stdout",
     "output_type": "stream",
     "text": [
      "У фильма \" 723    Pirates of the Caribbean: On Stranger Tides \" самый большой бюджет из списка\n"
     ]
    },
    {
     "data": {
      "text/plain": [
       "{'1': '723    Pirates of the Caribbean: On Stranger Tides'}"
      ]
     },
     "execution_count": 27,
     "metadata": {},
     "output_type": "execute_result"
    }
   ],
   "source": [
    "# тут пишем ваш код для решения данного вопроса:\n",
    "\n",
    "max_buget = data.loc[data['budget'] == data['budget'].max()].original_title  \n",
    "\n",
    "print('У фильма \"', max_buget.to_string(), '\" самый большой бюджет из списка') \n",
    "\n",
    "answers['1'] = max_buget.to_string() #+\n",
    "answers"
   ]
  },
  {
   "cell_type": "markdown",
   "metadata": {
    "colab_type": "text",
    "id": "K7L3nbRXVp-X"
   },
   "source": [
    "ВАРИАНТ 2"
   ]
  },
  {
   "cell_type": "code",
   "execution_count": 0,
   "metadata": {
    "colab": {},
    "colab_type": "code",
    "id": "OGaoQI7rVp-X"
   },
   "outputs": [],
   "source": [
    "# можно добавлять разные варианты решения"
   ]
  },
  {
   "cell_type": "markdown",
   "metadata": {
    "colab_type": "text",
    "id": "FNRbbI3vVp-c"
   },
   "source": [
    "# 2. Какой из фильмов самый длительный (в минутах)?"
   ]
  },
  {
   "cell_type": "code",
   "execution_count": 0,
   "metadata": {
    "colab": {},
    "colab_type": "code",
    "id": "vHAoEXNTVp-d"
   },
   "outputs": [],
   "source": [
    "# думаю логику работы с этим словарем вы уже поняли, \n",
    "# по этому не буду больше его дублировать\n",
    "answers['2'] = '...'"
   ]
  },
  {
   "cell_type": "code",
   "execution_count": 28,
   "metadata": {
    "colab": {},
    "colab_type": "code",
    "id": "ot-VX2XrVp-g"
   },
   "outputs": [
    {
     "name": "stdout",
     "output_type": "stream",
     "text": [
      "Фильм \" 1157    Gods and Generals \" - самый длительный из списка\n"
     ]
    },
    {
     "data": {
      "text/plain": [
       "{'1': '723    Pirates of the Caribbean: On Stranger Tides',\n",
       " '2': '1157    Gods and Generals'}"
      ]
     },
     "execution_count": 28,
     "metadata": {},
     "output_type": "execute_result"
    }
   ],
   "source": [
    "max_runtime = data.loc[data['runtime'] == data['runtime'].max()].original_title \n",
    "\n",
    "print('Фильм \"', max_runtime.to_string(), '\" - самый длительный из списка') \n",
    "\n",
    "answers['2'] = max_runtime.to_string() #+\n",
    "answers"
   ]
  },
  {
   "cell_type": "markdown",
   "metadata": {
    "colab_type": "text",
    "id": "bapLlpW8Vp-k"
   },
   "source": [
    "# 3. Какой из фильмов самый короткий (в минутах)?\n",
    "\n",
    "\n",
    "\n"
   ]
  },
  {
   "cell_type": "code",
   "execution_count": 29,
   "metadata": {
    "colab": {},
    "colab_type": "code",
    "id": "YBxaSHuAVp-l"
   },
   "outputs": [
    {
     "name": "stdout",
     "output_type": "stream",
     "text": [
      "Фильм \" 768    Winnie the Pooh \" - самый короткий из списка\n"
     ]
    },
    {
     "data": {
      "text/plain": [
       "{'1': '723    Pirates of the Caribbean: On Stranger Tides',\n",
       " '2': '1157    Gods and Generals',\n",
       " '3': '768    Winnie the Pooh'}"
      ]
     },
     "execution_count": 29,
     "metadata": {},
     "output_type": "execute_result"
    }
   ],
   "source": [
    "min_runtime = data.loc[data['runtime'] == data['runtime'].min()].original_title \n",
    "\n",
    "print('Фильм \"', min_runtime.to_string(), '\" - самый короткий из списка') \n",
    "\n",
    "answers['3'] = min_runtime.to_string() #+\n",
    "answers"
   ]
  },
  {
   "cell_type": "markdown",
   "metadata": {
    "colab_type": "text",
    "id": "TfQbxbfNVp-p"
   },
   "source": [
    "# 4. Какова средняя длительность фильмов?\n"
   ]
  },
  {
   "cell_type": "code",
   "execution_count": 30,
   "metadata": {
    "colab": {},
    "colab_type": "code",
    "id": "5K6dKZYVVp-q"
   },
   "outputs": [
    {
     "name": "stdout",
     "output_type": "stream",
     "text": [
      "Средняя продолжительность фильмов: \" 110.0\n"
     ]
    },
    {
     "data": {
      "text/plain": [
       "{'1': '723    Pirates of the Caribbean: On Stranger Tides',\n",
       " '2': '1157    Gods and Generals',\n",
       " '3': '768    Winnie the Pooh',\n",
       " '4': 110.0}"
      ]
     },
     "execution_count": 30,
     "metadata": {},
     "output_type": "execute_result"
    }
   ],
   "source": [
    "avg_runtime = round(data['runtime'].mean(), 0)\n",
    "\n",
    "print('Средняя продолжительность фильмов: \"', str(avg_runtime)) \n",
    "\n",
    "answers['4'] = avg_runtime #+\n",
    "answers"
   ]
  },
  {
   "cell_type": "markdown",
   "metadata": {
    "colab_type": "text",
    "id": "r5TvbnT_Vp-u"
   },
   "source": [
    "# 5. Каково медианное значение длительности фильмов? "
   ]
  },
  {
   "cell_type": "code",
   "execution_count": 31,
   "metadata": {
    "colab": {},
    "colab_type": "code",
    "id": "iBROplKnVp-v"
   },
   "outputs": [
    {
     "name": "stdout",
     "output_type": "stream",
     "text": [
      "Медианноге значение длительности фильмов: 107\n"
     ]
    },
    {
     "data": {
      "text/plain": [
       "{'1': '723    Pirates of the Caribbean: On Stranger Tides',\n",
       " '2': '1157    Gods and Generals',\n",
       " '3': '768    Winnie the Pooh',\n",
       " '4': 110.0,\n",
       " '5': 107}"
      ]
     },
     "execution_count": 31,
     "metadata": {},
     "output_type": "execute_result"
    }
   ],
   "source": [
    "med = median(data['runtime'])\n",
    "print('Медианноге значение длительности фильмов:', str(med))\n",
    "\n",
    "answers['5'] = med #+\n",
    "answers"
   ]
  },
  {
   "cell_type": "markdown",
   "metadata": {
    "colab_type": "text",
    "id": "39P-deDSVp-y"
   },
   "source": [
    "# 6. Какой самый прибыльный фильм?\n",
    "#### Внимание! Здесь и далее под «прибылью» или «убытками» понимается разность между сборами и бюджетом фильма. (прибыль = сборы - бюджет) в нашем датасете это будет (profit = revenue - budget) "
   ]
  },
  {
   "cell_type": "code",
   "execution_count": 32,
   "metadata": {
    "colab": {},
    "colab_type": "code",
    "id": "UYZh4T9WVp-y"
   },
   "outputs": [
    {
     "name": "stdout",
     "output_type": "stream",
     "text": [
      "Фильм \" 239    Avatar  - самый прибыльный из списка\n"
     ]
    },
    {
     "data": {
      "text/plain": [
       "{'1': '723    Pirates of the Caribbean: On Stranger Tides',\n",
       " '2': '1157    Gods and Generals',\n",
       " '3': '768    Winnie the Pooh',\n",
       " '4': 110.0,\n",
       " '5': 107,\n",
       " '6': '239    Avatar'}"
      ]
     },
     "execution_count": 32,
     "metadata": {},
     "output_type": "execute_result"
    }
   ],
   "source": [
    "max_profit = data.loc[data['profit'] == data['profit'].max()].original_title \n",
    "\n",
    "print('Фильм \"', max_profit.to_string(), ' - самый прибыльный из списка') \n",
    "\n",
    "answers['6'] = max_profit.to_string() #+\n",
    "answers"
   ]
  },
  {
   "cell_type": "markdown",
   "metadata": {
    "colab_type": "text",
    "id": "M99JmIX4Vp-2"
   },
   "source": [
    "# 7. Какой фильм самый убыточный? "
   ]
  },
  {
   "cell_type": "code",
   "execution_count": 33,
   "metadata": {
    "colab": {},
    "colab_type": "code",
    "id": "w-D2m4XPVp-3"
   },
   "outputs": [
    {
     "name": "stdout",
     "output_type": "stream",
     "text": [
      "Фильм \" 1245    The Lone Ranger  - самый убыточный из списка\n"
     ]
    },
    {
     "data": {
      "text/plain": [
       "{'1': '723    Pirates of the Caribbean: On Stranger Tides',\n",
       " '2': '1157    Gods and Generals',\n",
       " '3': '768    Winnie the Pooh',\n",
       " '4': 110.0,\n",
       " '5': 107,\n",
       " '6': '239    Avatar',\n",
       " '7': '1245    The Lone Ranger'}"
      ]
     },
     "execution_count": 33,
     "metadata": {},
     "output_type": "execute_result"
    }
   ],
   "source": [
    "max_loss = data.loc[(data['profit'] < 0) & (data['profit'] == data['profit'].min())].original_title \n",
    "\n",
    "print('Фильм \"', max_loss.to_string(), ' - самый убыточный из списка') \n",
    "\n",
    "answers['7'] = max_loss.to_string() #+\n",
    "answers"
   ]
  },
  {
   "cell_type": "markdown",
   "metadata": {
    "colab_type": "text",
    "id": "wEOM5ERVVp-6"
   },
   "source": [
    "# 8. У скольких фильмов из датасета объем сборов оказался выше бюджета?"
   ]
  },
  {
   "cell_type": "code",
   "execution_count": 34,
   "metadata": {
    "colab": {},
    "colab_type": "code",
    "id": "y00_7HD6Vp-7"
   },
   "outputs": [
    {
     "name": "stdout",
     "output_type": "stream",
     "text": [
      "В списке - 1478 фильмов, которые принесли прибыль\n"
     ]
    },
    {
     "data": {
      "text/plain": [
       "{'1': '723    Pirates of the Caribbean: On Stranger Tides',\n",
       " '2': '1157    Gods and Generals',\n",
       " '3': '768    Winnie the Pooh',\n",
       " '4': 110.0,\n",
       " '5': 107,\n",
       " '6': '239    Avatar',\n",
       " '7': '1245    The Lone Ranger',\n",
       " '8': '1478'}"
      ]
     },
     "execution_count": 34,
     "metadata": {},
     "output_type": "execute_result"
    }
   ],
   "source": [
    "profitable_cnt = data.loc[(data['profit'] > 0)].original_title.count()\n",
    "print('В списке -', str(profitable_cnt), 'фильмов, которые принесли прибыль') \n",
    "answers['8'] = str(profitable_cnt) #+\n",
    "answers"
   ]
  },
  {
   "cell_type": "markdown",
   "metadata": {
    "colab_type": "text",
    "id": "xhpspA9KVp_A"
   },
   "source": [
    "# 9. Какой фильм оказался самым кассовым в 2008 году?"
   ]
  },
  {
   "cell_type": "code",
   "execution_count": 35,
   "metadata": {
    "colab": {},
    "colab_type": "code",
    "id": "MoUyQr9RVp_B"
   },
   "outputs": [
    {
     "name": "stdout",
     "output_type": "stream",
     "text": [
      "В 2008 году самым кассовым фильмом оказался фильм \" 599    The Dark Knight \"\n"
     ]
    },
    {
     "data": {
      "text/plain": [
       "{'1': '723    Pirates of the Caribbean: On Stranger Tides',\n",
       " '2': '1157    Gods and Generals',\n",
       " '3': '768    Winnie the Pooh',\n",
       " '4': 110.0,\n",
       " '5': 107,\n",
       " '6': '239    Avatar',\n",
       " '7': '1245    The Lone Ranger',\n",
       " '8': '1478',\n",
       " '9': '599    The Dark Knight'}"
      ]
     },
     "execution_count": 35,
     "metadata": {},
     "output_type": "execute_result"
    }
   ],
   "source": [
    "films_2008 = data[data['release_year'] == 2008] # фильмы, выпущенные в 2008 году\n",
    "                     \n",
    "gross_film = films_2008.loc[films_2008['profit'] == films_2008['profit'].max()].original_title.to_string()\n",
    "\n",
    "print('В 2008 году самым кассовым фильмом оказался фильм \"', gross_film,'\"')\n",
    "answers['9'] = gross_film #+\n",
    "answers"
   ]
  },
  {
   "cell_type": "markdown",
   "metadata": {
    "colab_type": "text",
    "id": "Zi4hDKidVp_F"
   },
   "source": [
    "# 10. Самый убыточный фильм за период с 2012 по 2014 г. (включительно)?\n"
   ]
  },
  {
   "cell_type": "code",
   "execution_count": 36,
   "metadata": {
    "colab": {},
    "colab_type": "code",
    "id": "XqyRmufJVp_F"
   },
   "outputs": [
    {
     "name": "stdout",
     "output_type": "stream",
     "text": [
      "За период с 2012 по 2014 г. самым убыточным фильмом был:  \" 1245    The Lone Ranger \"\n"
     ]
    },
    {
     "data": {
      "text/plain": [
       "{'1': '723    Pirates of the Caribbean: On Stranger Tides',\n",
       " '2': '1157    Gods and Generals',\n",
       " '3': '768    Winnie the Pooh',\n",
       " '4': 110.0,\n",
       " '5': 107,\n",
       " '6': '239    Avatar',\n",
       " '7': '1245    The Lone Ranger',\n",
       " '8': '1478',\n",
       " '9': '599    The Dark Knight',\n",
       " '10': '1245    The Lone Ranger'}"
      ]
     },
     "execution_count": 36,
     "metadata": {},
     "output_type": "execute_result"
    }
   ],
   "source": [
    "films_12_14 = data.loc[(data['release_year'].isin([2012,2013,2014])) ] # фильмы, выпущенные c 2012 по 2014 годы\n",
    "                    \n",
    "unprofitable_film = films_12_14.loc[films_12_14['profit'] == films_12_14['profit'].min()].original_title.to_string()\n",
    "\n",
    "print('За период с 2012 по 2014 г. самым убыточным фильмом был:  \"', unprofitable_film,'\"')\n",
    "\n",
    "answers['10'] = unprofitable_film #+\n",
    "answers"
   ]
  },
  {
   "cell_type": "markdown",
   "metadata": {
    "colab_type": "text",
    "id": "EA7Sa9dkVp_I"
   },
   "source": [
    "# 11. Какого жанра фильмов больше всего?"
   ]
  },
  {
   "cell_type": "code",
   "execution_count": 37,
   "metadata": {
    "colab": {},
    "colab_type": "code",
    "id": "zsJAwJ8QVp_J"
   },
   "outputs": [
    {
     "name": "stdout",
     "output_type": "stream",
     "text": [
      "Самый часто встречающийся жанр в выборке:  [('Drama', 782)]\n"
     ]
    },
    {
     "data": {
      "text/plain": [
       "{'1': '723    Pirates of the Caribbean: On Stranger Tides',\n",
       " '2': '1157    Gods and Generals',\n",
       " '3': '768    Winnie the Pooh',\n",
       " '4': 110.0,\n",
       " '5': 107,\n",
       " '6': '239    Avatar',\n",
       " '7': '1245    The Lone Ranger',\n",
       " '8': '1478',\n",
       " '9': '599    The Dark Knight',\n",
       " '10': '1245    The Lone Ranger',\n",
       " '11': \"[('Drama', 782)]\"}"
      ]
     },
     "execution_count": 37,
     "metadata": {},
     "output_type": "execute_result"
    }
   ],
   "source": [
    "genres_cnt = col.Counter()\n",
    "genres = data['genres'].str.split('|') # строку с жанрами превращаем в список\n",
    "#print(genres)\n",
    "\n",
    "for genres_list in genres:            # цикл по спискe фильмов \n",
    "    for genre in genres_list:         # цикл по списку жанров\n",
    "        genres_cnt[genre] += 1 \n",
    "\n",
    "print ('Самый часто встречающийся жанр в выборке: ', str(genres_cnt.most_common(1)))\n",
    "\n",
    "answers['11'] = str(genres_cnt.most_common(1)) #+\n",
    "answers\n"
   ]
  },
  {
   "cell_type": "markdown",
   "metadata": {
    "colab_type": "text",
    "id": "Ax6g2C8SVp_M"
   },
   "source": [
    "ВАРИАНТ 2"
   ]
  },
  {
   "cell_type": "code",
   "execution_count": 38,
   "metadata": {
    "colab": {},
    "colab_type": "code",
    "id": "otO3SbrSVp_N",
    "scrolled": true
   },
   "outputs": [
    {
     "name": "stdout",
     "output_type": "stream",
     "text": [
      "Самый часто встречающийся жанр в выборке -  Drama , встречается 782 раз\n"
     ]
    },
    {
     "data": {
      "text/plain": [
       "{'1': '723    Pirates of the Caribbean: On Stranger Tides',\n",
       " '2': '1157    Gods and Generals',\n",
       " '3': '768    Winnie the Pooh',\n",
       " '4': 110.0,\n",
       " '5': 107,\n",
       " '6': '239    Avatar',\n",
       " '7': '1245    The Lone Ranger',\n",
       " '8': '1478',\n",
       " '9': '599    The Dark Knight',\n",
       " '10': '1245    The Lone Ranger',\n",
       " '11': \"[('Drama', 782)]\",\n",
       " '11.2': 'Drama'}"
      ]
     },
     "execution_count": 38,
     "metadata": {},
     "output_type": "execute_result"
    }
   ],
   "source": [
    "films = data.copy() \n",
    "films.genres = films.genres.str.split('|') # строку с жанрами превращаем в массив\n",
    "films = films.explode('genres')            # превращаем списки жанров в строки \n",
    "\n",
    "genres = films['genres'].value_counts().sort_values(ascending=False) # считаем встречаемость и сортирем по убыванию\n",
    "\n",
    "print ('Самый часто встречающийся жанр в выборке - ', str(genres.index[0]), ', встречается', str(genres.iloc[0]), 'раз')\n",
    "\n",
    "answers['11.2'] = str(genres.index[0]) #+\n",
    "answers\n"
   ]
  },
  {
   "cell_type": "markdown",
   "metadata": {
    "colab_type": "text",
    "id": "T9_bPWpkVp_Q"
   },
   "source": [
    "# 12. Фильмы какого жанра чаще всего становятся прибыльными? "
   ]
  },
  {
   "cell_type": "code",
   "execution_count": 39,
   "metadata": {
    "colab": {},
    "colab_type": "code",
    "id": "Tmt8MaK1Vp_R"
   },
   "outputs": [
    {
     "name": "stdout",
     "output_type": "stream",
     "text": [
      "Фильмы жанра \" Drama \" чаще всего становятся прибыльными\n"
     ]
    },
    {
     "data": {
      "text/plain": [
       "{'1': '723    Pirates of the Caribbean: On Stranger Tides',\n",
       " '2': '1157    Gods and Generals',\n",
       " '3': '768    Winnie the Pooh',\n",
       " '4': 110.0,\n",
       " '5': 107,\n",
       " '6': '239    Avatar',\n",
       " '7': '1245    The Lone Ranger',\n",
       " '8': '1478',\n",
       " '9': '599    The Dark Knight',\n",
       " '10': '1245    The Lone Ranger',\n",
       " '11': \"[('Drama', 782)]\",\n",
       " '11.2': 'Drama',\n",
       " '12': 'Drama'}"
      ]
     },
     "execution_count": 39,
     "metadata": {},
     "output_type": "execute_result"
    }
   ],
   "source": [
    "films = data.copy() \n",
    "\n",
    "films.genres = films.genres.str.split('|') # строку с жанрами превращаем в массив\n",
    "films = films.explode('genres')            # превращаем списки жанров в строки \n",
    "\n",
    "# считаем встречаемость и сортирем по убыванию\n",
    "profits = films.loc[films['profit'] > 0]['genres'].value_counts().sort_values(ascending=False) \n",
    "\n",
    "print('Фильмы жанра \"',str(profits.index[0]),'\" чаще всего становятся прибыльными')\n",
    "\n",
    "answers['12'] = str(profits.index[0]) #+\n",
    "answers\n"
   ]
  },
  {
   "cell_type": "markdown",
   "metadata": {
    "colab_type": "text",
    "id": "0F23bgsDVp_U"
   },
   "source": [
    "# 13. У какого режиссера самые большие суммарные кассовые сборы?"
   ]
  },
  {
   "cell_type": "code",
   "execution_count": 40,
   "metadata": {
    "colab": {},
    "colab_type": "code",
    "id": "K6Z3J8ygVp_X"
   },
   "outputs": [
    {
     "name": "stdout",
     "output_type": "stream",
     "text": [
      "Фильмы, которые снял режисёр Peter Jackson , имеют самые большие кассовые сборы\n"
     ]
    },
    {
     "data": {
      "text/plain": [
       "{'1': '723    Pirates of the Caribbean: On Stranger Tides',\n",
       " '2': '1157    Gods and Generals',\n",
       " '3': '768    Winnie the Pooh',\n",
       " '4': 110.0,\n",
       " '5': 107,\n",
       " '6': '239    Avatar',\n",
       " '7': '1245    The Lone Ranger',\n",
       " '8': '1478',\n",
       " '9': '599    The Dark Knight',\n",
       " '10': '1245    The Lone Ranger',\n",
       " '11': \"[('Drama', 782)]\",\n",
       " '11.2': 'Drama',\n",
       " '12': 'Drama',\n",
       " '13': 'Peter Jackson'}"
      ]
     },
     "execution_count": 40,
     "metadata": {},
     "output_type": "execute_result"
    }
   ],
   "source": [
    "directors = data.copy() \n",
    "\n",
    "directors.director = directors.director.str.split('|') # если несколько режисёров\n",
    "directors = directors.explode('director')              # превращаем списки режисёров в строки \n",
    "\n",
    "#считаем суммарную прибыль фльмов режисёра и сортируем по убыванию \n",
    "dir_revenue = directors.groupby(['director'])['revenue'].sum().sort_values(ascending=False)\n",
    "\n",
    "#смотрим только первую строку, что не совсем правильно (если фильмы нескольких режисёров имеют одинаковую прибыль) - \n",
    "# в более поздних вопросах эа проблема решается\n",
    "\n",
    "director = dir_revenue.index[0] \n",
    "print('Фильмы, которые снял режисёр', director, ', имеют самые большие кассовые сборы')\n",
    "\n",
    "answers['13'] = str(director) #+\n",
    "answers"
   ]
  },
  {
   "cell_type": "markdown",
   "metadata": {
    "colab_type": "text",
    "id": "PsYC9FgRVp_a"
   },
   "source": [
    "# 14. Какой режисер снял больше всего фильмов в стиле Action?"
   ]
  },
  {
   "cell_type": "code",
   "execution_count": 41,
   "metadata": {
    "colab": {},
    "colab_type": "code",
    "id": "wd2M-wHeVp_b"
   },
   "outputs": [
    {
     "name": "stdout",
     "output_type": "stream",
     "text": [
      "Robert Rodriguez снял больше всего фильмов в стиле Action\n"
     ]
    },
    {
     "data": {
      "text/plain": [
       "{'1': '723    Pirates of the Caribbean: On Stranger Tides',\n",
       " '2': '1157    Gods and Generals',\n",
       " '3': '768    Winnie the Pooh',\n",
       " '4': 110.0,\n",
       " '5': 107,\n",
       " '6': '239    Avatar',\n",
       " '7': '1245    The Lone Ranger',\n",
       " '8': '1478',\n",
       " '9': '599    The Dark Knight',\n",
       " '10': '1245    The Lone Ranger',\n",
       " '11': \"[('Drama', 782)]\",\n",
       " '11.2': 'Drama',\n",
       " '12': 'Drama',\n",
       " '13': 'Peter Jackson',\n",
       " '14': 'Robert Rodriguez'}"
      ]
     },
     "execution_count": 41,
     "metadata": {},
     "output_type": "execute_result"
    }
   ],
   "source": [
    "directors = data.copy() \n",
    "directors.director = directors.director.str.split('|') # если несколько режисёров\n",
    "directors = directors.explode('director')              # превращаем списки режисёров в строки \n",
    "\n",
    "pattern = re.compile(r'.*Action.*')\n",
    "act_directors = directors.loc[lambda x: x['genres'].str.contains(pattern, regex = True)].director\n",
    "\n",
    "act_director = act_directors.value_counts().sort_values(ascending=False).index[0] #первый элемент в списке, отсортированном по количеству\n",
    "print(act_director, 'снял больше всего фильмов в стиле Action')\n",
    "\n",
    "answers['14'] = str(act_director) #+\n",
    "answers"
   ]
  },
  {
   "cell_type": "markdown",
   "metadata": {
    "colab_type": "text",
    "id": "PQ0KciD7Vp_f"
   },
   "source": [
    "# 15. Фильмы с каким актером принесли самые высокие кассовые сборы в 2012 году? "
   ]
  },
  {
   "cell_type": "code",
   "execution_count": 42,
   "metadata": {
    "colab": {},
    "colab_type": "code",
    "id": "aga62oeKVp_g"
   },
   "outputs": [
    {
     "name": "stdout",
     "output_type": "stream",
     "text": [
      "Фильмы с Chris Hemsworth принесли самые высокие кассовые сборы в 2012 году\n"
     ]
    },
    {
     "data": {
      "text/plain": [
       "{'1': '723    Pirates of the Caribbean: On Stranger Tides',\n",
       " '2': '1157    Gods and Generals',\n",
       " '3': '768    Winnie the Pooh',\n",
       " '4': 110.0,\n",
       " '5': 107,\n",
       " '6': '239    Avatar',\n",
       " '7': '1245    The Lone Ranger',\n",
       " '8': '1478',\n",
       " '9': '599    The Dark Knight',\n",
       " '10': '1245    The Lone Ranger',\n",
       " '11': \"[('Drama', 782)]\",\n",
       " '11.2': 'Drama',\n",
       " '12': 'Drama',\n",
       " '13': 'Peter Jackson',\n",
       " '14': 'Robert Rodriguez',\n",
       " '15': 'Chris Hemsworth'}"
      ]
     },
     "execution_count": 42,
     "metadata": {},
     "output_type": "execute_result"
    }
   ],
   "source": [
    "actors = data.loc[(data['release_year'] == 2012)].copy()      \n",
    "actors.cast = actors.cast.str.split('|') \n",
    "actors = actors.explode('cast')              # превращаем списки актёров в строки \n",
    "\n",
    "# кассовые сборы фильмов, группируем по актёрам, сортируем по убыванию \n",
    "films_revenue = actors.groupby(['cast'])['revenue'].sum().sort_values(ascending=False) \n",
    "\n",
    "# берём первый элемент отсортированного по убыванию списка\n",
    "print('Фильмы с', films_revenue.index[0], 'принесли самые высокие кассовые сборы в 2012 году') \n",
    "\n",
    "answers['15'] = str(films_revenue.index[0]) #+\n",
    "answers"
   ]
  },
  {
   "cell_type": "markdown",
   "metadata": {
    "colab_type": "text",
    "id": "mWHyyL7QVp_j"
   },
   "source": [
    "# 16. Какой актер снялся в большем количестве высокобюджетных фильмов?"
   ]
  },
  {
   "cell_type": "code",
   "execution_count": 43,
   "metadata": {
    "colab": {},
    "colab_type": "code",
    "id": "qQtmHKTFVp_k"
   },
   "outputs": [
    {
     "name": "stdout",
     "output_type": "stream",
     "text": [
      "Matt Damon снялся в большем количестве высокобюджетных фильмов\n"
     ]
    },
    {
     "data": {
      "text/plain": [
       "{'1': '723    Pirates of the Caribbean: On Stranger Tides',\n",
       " '2': '1157    Gods and Generals',\n",
       " '3': '768    Winnie the Pooh',\n",
       " '4': 110.0,\n",
       " '5': 107,\n",
       " '6': '239    Avatar',\n",
       " '7': '1245    The Lone Ranger',\n",
       " '8': '1478',\n",
       " '9': '599    The Dark Knight',\n",
       " '10': '1245    The Lone Ranger',\n",
       " '11': \"[('Drama', 782)]\",\n",
       " '11.2': 'Drama',\n",
       " '12': 'Drama',\n",
       " '13': 'Peter Jackson',\n",
       " '14': 'Robert Rodriguez',\n",
       " '15': 'Chris Hemsworth',\n",
       " '16': 'Matt Damon'}"
      ]
     },
     "execution_count": 43,
     "metadata": {},
     "output_type": "execute_result"
    }
   ],
   "source": [
    "hi_buget_films = data.loc[(data['budget'] > data['budget'].mean())].copy() # фильмы с бюджетом выше среднего по выборке\n",
    "hi_buget_films.cast = hi_buget_films.cast.str.split('|') \n",
    "hi_buget_films = hi_buget_films.explode('cast')                            # превращаем списки актёров в строки \n",
    "\n",
    "# количество фильмов в группировке по актёрам\n",
    "actor_cnt = hi_buget_films.groupby(['cast'])['original_title'].count().sort_values(ascending=False) \n",
    "\n",
    "#берём первую строку отсортированного списка\n",
    "print( actor_cnt.index[0], 'снялся в большем количестве высокобюджетных фильмов')\n",
    "\n",
    "answers['16'] = str( actor_cnt.index[0]) \n",
    "answers"
   ]
  },
  {
   "cell_type": "markdown",
   "metadata": {
    "colab_type": "text",
    "id": "NIh6AaW5Vp_n"
   },
   "source": [
    "# 17. В фильмах какого жанра больше всего снимался Nicolas Cage? "
   ]
  },
  {
   "cell_type": "code",
   "execution_count": 44,
   "metadata": {
    "colab": {},
    "colab_type": "code",
    "id": "H74SJDIBVp_n"
   },
   "outputs": [
    {
     "name": "stdout",
     "output_type": "stream",
     "text": [
      "Nicolas Cage снимался больше всего в фильмах жанра Action\n"
     ]
    },
    {
     "data": {
      "text/plain": [
       "{'1': '723    Pirates of the Caribbean: On Stranger Tides',\n",
       " '2': '1157    Gods and Generals',\n",
       " '3': '768    Winnie the Pooh',\n",
       " '4': 110.0,\n",
       " '5': 107,\n",
       " '6': '239    Avatar',\n",
       " '7': '1245    The Lone Ranger',\n",
       " '8': '1478',\n",
       " '9': '599    The Dark Knight',\n",
       " '10': '1245    The Lone Ranger',\n",
       " '11': \"[('Drama', 782)]\",\n",
       " '11.2': 'Drama',\n",
       " '12': 'Drama',\n",
       " '13': 'Peter Jackson',\n",
       " '14': 'Robert Rodriguez',\n",
       " '15': 'Chris Hemsworth',\n",
       " '16': 'Matt Damon',\n",
       " '17': 'Action'}"
      ]
     },
     "execution_count": 44,
     "metadata": {},
     "output_type": "execute_result"
    }
   ],
   "source": [
    "ncage_films = data.copy()\n",
    "ncage_films.cast = ncage_films.cast.str.split('|') \n",
    "ncage_films = ncage_films.explode('cast')                            # превращаем списки актёров в строки \n",
    "\n",
    "ncage_films = ncage_films.loc[ncage_films['cast'] == 'Nicolas Cage'] # выбираем строки с Николасом Кэйджем\n",
    "\n",
    "ncage_films.genres = ncage_films.genres.str.split('|') \n",
    "ncage_films = ncage_films.explode('genres')                          # строку с жанрами превращаем в массив\n",
    "\n",
    "#список фильмов с Н. Кэйджем группируем по жанрам и считаем количество, сортируем по убыванию\n",
    "ncage_gengres = ncage_films.groupby(['genres'])['original_title'].count().sort_values(ascending=False)  \n",
    "\n",
    "# берём первую строку списка\n",
    "print('Nicolas Cage снимался больше всего в фильмах жанра', ncage_gengres.index[0])\n",
    "\n",
    "answers['17'] = str(ncage_gengres.index[0]) \n",
    "answers"
   ]
  },
  {
   "cell_type": "markdown",
   "metadata": {
    "colab_type": "text",
    "id": "RqOmPRfWVp_q"
   },
   "source": [
    "# 18. Самый убыточный фильм от Paramount Pictures"
   ]
  },
  {
   "cell_type": "code",
   "execution_count": 45,
   "metadata": {
    "colab": {},
    "colab_type": "code",
    "id": "9E_B0Y96Vp_r"
   },
   "outputs": [
    {
     "name": "stdout",
     "output_type": "stream",
     "text": [
      "Самый убыточный фильм от Paramount Pictures -   K-19: The Widowmaker\n"
     ]
    },
    {
     "data": {
      "text/plain": [
       "{'1': '723    Pirates of the Caribbean: On Stranger Tides',\n",
       " '2': '1157    Gods and Generals',\n",
       " '3': '768    Winnie the Pooh',\n",
       " '4': 110.0,\n",
       " '5': 107,\n",
       " '6': '239    Avatar',\n",
       " '7': '1245    The Lone Ranger',\n",
       " '8': '1478',\n",
       " '9': '599    The Dark Knight',\n",
       " '10': '1245    The Lone Ranger',\n",
       " '11': \"[('Drama', 782)]\",\n",
       " '11.2': 'Drama',\n",
       " '12': 'Drama',\n",
       " '13': 'Peter Jackson',\n",
       " '14': 'Robert Rodriguez',\n",
       " '15': 'Chris Hemsworth',\n",
       " '16': 'Matt Damon',\n",
       " '17': 'Action',\n",
       " '18': ' K-19: The Widowmaker'}"
      ]
     },
     "execution_count": 45,
     "metadata": {},
     "output_type": "execute_result"
    }
   ],
   "source": [
    "pp_films = data.copy()\n",
    "pp_films.production_companies = pp_films.production_companies.str.split('|') \n",
    "pp_films = pp_films.explode('production_companies')                          # превращаем списки кинокомпаний в строки \n",
    "\n",
    "# Список фильмов компании Paramount Pictures\n",
    "pp_films = pp_films.loc[(pp_films['production_companies'] == 'Paramount Pictures')]\n",
    "\n",
    "# Фильмы с минимальной прибылью из этого списка\n",
    "unprofitable_pp_film = pp_films.loc[(pp_films['profit'] == pp_films['profit'].min())]\n",
    "print ('Самый убыточный фильм от Paramount Pictures - ', unprofitable_pp_film['original_title'].to_string(header=False, index=False))\n",
    "\n",
    "answers['18'] = unprofitable_pp_film['original_title'].to_string(header=False, index=False)\n",
    "answers"
   ]
  },
  {
   "cell_type": "markdown",
   "metadata": {
    "colab_type": "text",
    "id": "vS8Ur6ddVp_u"
   },
   "source": [
    "# 19. Какой год стал самым успешным по суммарным кассовым сборам?"
   ]
  },
  {
   "cell_type": "code",
   "execution_count": 46,
   "metadata": {
    "colab": {},
    "colab_type": "code",
    "id": "Dnbt4GdIVp_v"
   },
   "outputs": [
    {
     "name": "stdout",
     "output_type": "stream",
     "text": [
      "2015  год стал самым успешным по сммарным кассовым сбборам\n"
     ]
    },
    {
     "data": {
      "text/plain": [
       "{'1': '723    Pirates of the Caribbean: On Stranger Tides',\n",
       " '2': '1157    Gods and Generals',\n",
       " '3': '768    Winnie the Pooh',\n",
       " '4': 110.0,\n",
       " '5': 107,\n",
       " '6': '239    Avatar',\n",
       " '7': '1245    The Lone Ranger',\n",
       " '8': '1478',\n",
       " '9': '599    The Dark Knight',\n",
       " '10': '1245    The Lone Ranger',\n",
       " '11': \"[('Drama', 782)]\",\n",
       " '11.2': 'Drama',\n",
       " '12': 'Drama',\n",
       " '13': 'Peter Jackson',\n",
       " '14': 'Robert Rodriguez',\n",
       " '15': 'Chris Hemsworth',\n",
       " '16': 'Matt Damon',\n",
       " '17': 'Action',\n",
       " '18': ' K-19: The Widowmaker',\n",
       " '19': '2015'}"
      ]
     },
     "execution_count": 46,
     "metadata": {},
     "output_type": "execute_result"
    }
   ],
   "source": [
    "py_films = data.copy()\n",
    "\n",
    "# Суммарные кассовые сборы за год\n",
    "years_rev = py_films.groupby(['release_year'])[['revenue']].sum() \n",
    "\n",
    "# Год с максимальными кассовыми сборами \n",
    "max_rev_year = years_rev.loc[(years_rev['revenue'] == years_rev['revenue'].max())]\n",
    "\n",
    "print(max_rev_year.index[0], ' год стал самым успешным по сммарным кассовым сбборам')\n",
    "\n",
    "answers['19'] = str(max_rev_year.index[0]) \n",
    "answers"
   ]
  },
  {
   "cell_type": "markdown",
   "metadata": {
    "colab_type": "text",
    "id": "JAzJh4QAVp_z"
   },
   "source": [
    "# 20. Какой самый прибыльный год для студии Warner Bros?"
   ]
  },
  {
   "cell_type": "code",
   "execution_count": 47,
   "metadata": {
    "colab": {},
    "colab_type": "code",
    "id": "wgVu02DEVp_0"
   },
   "outputs": [
    {
     "name": "stdout",
     "output_type": "stream",
     "text": [
      "2014  год стал самым прибыльным для студии Warner Bros\n"
     ]
    },
    {
     "data": {
      "text/plain": [
       "{'1': '723    Pirates of the Caribbean: On Stranger Tides',\n",
       " '2': '1157    Gods and Generals',\n",
       " '3': '768    Winnie the Pooh',\n",
       " '4': 110.0,\n",
       " '5': 107,\n",
       " '6': '239    Avatar',\n",
       " '7': '1245    The Lone Ranger',\n",
       " '8': '1478',\n",
       " '9': '599    The Dark Knight',\n",
       " '10': '1245    The Lone Ranger',\n",
       " '11': \"[('Drama', 782)]\",\n",
       " '11.2': 'Drama',\n",
       " '12': 'Drama',\n",
       " '13': 'Peter Jackson',\n",
       " '14': 'Robert Rodriguez',\n",
       " '15': 'Chris Hemsworth',\n",
       " '16': 'Matt Damon',\n",
       " '17': 'Action',\n",
       " '18': ' K-19: The Widowmaker',\n",
       " '19': '2015',\n",
       " '20': '2014'}"
      ]
     },
     "execution_count": 47,
     "metadata": {},
     "output_type": "execute_result"
    }
   ],
   "source": [
    "wb_films = data.copy()\n",
    "wb_films.production_companies = wb_films.production_companies.str.split('|') \n",
    "wb_films = wb_films.explode('production_companies')              # превращаем списки кинокомпаний в строки \n",
    "\n",
    "# Список фильмов компании Warner Bros\n",
    "wb_films = wb_films.loc[lambda x: x['production_companies'].str.contains('Warner Bros*', regex = True)]\n",
    "\n",
    "# Находим годовую прибыль и сортируем по убыванию\n",
    "years_prof = wb_films.groupby(['release_year'])[['profit']].sum().sort_values(['profit'],ascending=False)\n",
    "\n",
    "# берём первуб строку этого списка\n",
    "print(years_prof.index[0], ' год стал самым прибыльным для студии Warner Bros')\n",
    "\n",
    "answers['20'] = str(years_prof.index[0]) \n",
    "answers"
   ]
  },
  {
   "cell_type": "markdown",
   "metadata": {
    "colab_type": "text",
    "id": "8Im1S2HRVp_4"
   },
   "source": [
    "# 21. В каком месяце за все годы суммарно вышло больше всего фильмов?"
   ]
  },
  {
   "cell_type": "code",
   "execution_count": 48,
   "metadata": {
    "colab": {},
    "colab_type": "code",
    "id": "lev6TH7gVp_4"
   },
   "outputs": [
    {
     "name": "stdout",
     "output_type": "stream",
     "text": [
      "В 9 месяце за все годы суммарно вышло больше всего фильмов\n"
     ]
    },
    {
     "data": {
      "text/plain": [
       "{'1': '723    Pirates of the Caribbean: On Stranger Tides',\n",
       " '2': '1157    Gods and Generals',\n",
       " '3': '768    Winnie the Pooh',\n",
       " '4': 110.0,\n",
       " '5': 107,\n",
       " '6': '239    Avatar',\n",
       " '7': '1245    The Lone Ranger',\n",
       " '8': '1478',\n",
       " '9': '599    The Dark Knight',\n",
       " '10': '1245    The Lone Ranger',\n",
       " '11': \"[('Drama', 782)]\",\n",
       " '11.2': 'Drama',\n",
       " '12': 'Drama',\n",
       " '13': 'Peter Jackson',\n",
       " '14': 'Robert Rodriguez',\n",
       " '15': 'Chris Hemsworth',\n",
       " '16': 'Matt Damon',\n",
       " '17': 'Action',\n",
       " '18': ' K-19: The Widowmaker',\n",
       " '19': '2015',\n",
       " '20': '2014',\n",
       " '21': '9'}"
      ]
     },
     "execution_count": 48,
     "metadata": {},
     "output_type": "execute_result"
    }
   ],
   "source": [
    "months_films = data.copy() #release_date\n",
    "\n",
    "# находим месяц выхода фильма, заносим его в новый столбец\n",
    "months_films['rd_month'] = pd.DatetimeIndex(months_films['release_date']).month\n",
    "\n",
    "# группируя по месяцу выхода, считаем количество фильмов\n",
    "res_array = months_films.groupby(['rd_month'])[['original_title']].count().sort_values(['original_title'],ascending=False)\n",
    "\n",
    "# берём первую строку этого списка\n",
    "res = res_array.index[0]\n",
    "\n",
    "print('В',res,'месяце за все годы суммарно вышло больше всего фильмов')\n",
    "\n",
    "answers['21'] = str(res) \n",
    "answers"
   ]
  },
  {
   "cell_type": "markdown",
   "metadata": {
    "colab_type": "text",
    "id": "uAJsZ_NeVp_7"
   },
   "source": [
    "# 22. Сколько суммарно вышло фильмов летом? (за июнь, июль, август)"
   ]
  },
  {
   "cell_type": "code",
   "execution_count": 49,
   "metadata": {
    "colab": {},
    "colab_type": "code",
    "id": "Aa-hEREoVp_8"
   },
   "outputs": [
    {
     "name": "stdout",
     "output_type": "stream",
     "text": [
      "Летом вышло 450 фильмов\n"
     ]
    },
    {
     "data": {
      "text/plain": [
       "{'1': '723    Pirates of the Caribbean: On Stranger Tides',\n",
       " '2': '1157    Gods and Generals',\n",
       " '3': '768    Winnie the Pooh',\n",
       " '4': 110.0,\n",
       " '5': 107,\n",
       " '6': '239    Avatar',\n",
       " '7': '1245    The Lone Ranger',\n",
       " '8': '1478',\n",
       " '9': '599    The Dark Knight',\n",
       " '10': '1245    The Lone Ranger',\n",
       " '11': \"[('Drama', 782)]\",\n",
       " '11.2': 'Drama',\n",
       " '12': 'Drama',\n",
       " '13': 'Peter Jackson',\n",
       " '14': 'Robert Rodriguez',\n",
       " '15': 'Chris Hemsworth',\n",
       " '16': 'Matt Damon',\n",
       " '17': 'Action',\n",
       " '18': ' K-19: The Widowmaker',\n",
       " '19': '2015',\n",
       " '20': '2014',\n",
       " '21': '9',\n",
       " '22': '450'}"
      ]
     },
     "execution_count": 49,
     "metadata": {},
     "output_type": "execute_result"
    }
   ],
   "source": [
    "months_films = data.copy() \n",
    "# находим месяц выхода фильма, заносим его в новый столбец\n",
    "months_films['rd_month'] = pd.DatetimeIndex(months_films['release_date']).month\n",
    "\n",
    "# список фильмов, вышежших летом\n",
    "\n",
    "summer_films = months_films.loc[lambda x: x['rd_month'].isin([6,7,8])].original_title.count()\n",
    "print('Летом вышло', str(summer_films), 'фильмов')\n",
    "\n",
    "answers['22'] = str(summer_films) \n",
    "answers\n"
   ]
  },
  {
   "cell_type": "markdown",
   "metadata": {
    "colab_type": "text",
    "id": "G94ppOY1VqAA"
   },
   "source": [
    "# 23. Для какого режиссера зима – самое продуктивное время года? "
   ]
  },
  {
   "cell_type": "code",
   "execution_count": 50,
   "metadata": {
    "colab": {},
    "colab_type": "code",
    "id": "RhNTsamuVqAB"
   },
   "outputs": [
    {
     "name": "stdout",
     "output_type": "stream",
     "text": [
      "Для  Peter Jackson зима – самое продуктивное время года\n"
     ]
    },
    {
     "data": {
      "text/plain": [
       "{'1': '723    Pirates of the Caribbean: On Stranger Tides',\n",
       " '2': '1157    Gods and Generals',\n",
       " '3': '768    Winnie the Pooh',\n",
       " '4': 110.0,\n",
       " '5': 107,\n",
       " '6': '239    Avatar',\n",
       " '7': '1245    The Lone Ranger',\n",
       " '8': '1478',\n",
       " '9': '599    The Dark Knight',\n",
       " '10': '1245    The Lone Ranger',\n",
       " '11': \"[('Drama', 782)]\",\n",
       " '11.2': 'Drama',\n",
       " '12': 'Drama',\n",
       " '13': 'Peter Jackson',\n",
       " '14': 'Robert Rodriguez',\n",
       " '15': 'Chris Hemsworth',\n",
       " '16': 'Matt Damon',\n",
       " '17': 'Action',\n",
       " '18': ' K-19: The Widowmaker',\n",
       " '19': '2015',\n",
       " '20': '2014',\n",
       " '21': '9',\n",
       " '22': '450',\n",
       " '23': 'Peter Jackson'}"
      ]
     },
     "execution_count": 50,
     "metadata": {},
     "output_type": "execute_result"
    }
   ],
   "source": [
    "months_films = data.copy() \n",
    "months_films.director = months_films.director.str.split('|') \n",
    "months_films = months_films.explode('director') # превращаем списки режисёров в строки \n",
    "\n",
    "# находим месяц выхода фильма, заносим его в новый столбец\n",
    "months_films['rd_month'] = pd.DatetimeIndex(months_films['release_date']).month\n",
    "\n",
    "# фильмы, вышедшие зимой\n",
    "winter_films = months_films.loc[lambda x: x['rd_month'].isin([1,2,12])]\n",
    "\n",
    "# режиссёры зимних фильмов с количеством выпущенных фильмов, сортируем по убываню\n",
    "winter_directors = winter_films.groupby(['director']).original_title.count() \\\n",
    "                                                     .reset_index(name='Films_Count') \\\n",
    "                                                     .sort_values(['Films_Count'], ascending=False)\n",
    "\n",
    "res =  winter_directors.director.iloc[0] \n",
    "print('Для ', res, 'зима – самое продуктивное время года')\n",
    "\n",
    "answers['23'] = str(res) \n",
    "answers\n"
   ]
  },
  {
   "cell_type": "markdown",
   "metadata": {
    "colab_type": "text",
    "id": "RBo0JVjVVqAF"
   },
   "source": [
    "# 24. Какая студия дает самые длинные названия своим фильмам по количеству символов?"
   ]
  },
  {
   "cell_type": "code",
   "execution_count": 51,
   "metadata": {
    "colab": {},
    "colab_type": "code",
    "id": "QRGS8L0iVqAG",
    "scrolled": false
   },
   "outputs": [
    {
     "name": "stdout",
     "output_type": "stream",
     "text": [
      "Студия \" Four By Two Productions \" даёт смамые длинные навания своим фильмам по количеству символов: в среднем -  83.0 символов\n"
     ]
    },
    {
     "data": {
      "text/plain": [
       "{'1': '723    Pirates of the Caribbean: On Stranger Tides',\n",
       " '2': '1157    Gods and Generals',\n",
       " '3': '768    Winnie the Pooh',\n",
       " '4': 110.0,\n",
       " '5': 107,\n",
       " '6': '239    Avatar',\n",
       " '7': '1245    The Lone Ranger',\n",
       " '8': '1478',\n",
       " '9': '599    The Dark Knight',\n",
       " '10': '1245    The Lone Ranger',\n",
       " '11': \"[('Drama', 782)]\",\n",
       " '11.2': 'Drama',\n",
       " '12': 'Drama',\n",
       " '13': 'Peter Jackson',\n",
       " '14': 'Robert Rodriguez',\n",
       " '15': 'Chris Hemsworth',\n",
       " '16': 'Matt Damon',\n",
       " '17': 'Action',\n",
       " '18': ' K-19: The Widowmaker',\n",
       " '19': '2015',\n",
       " '20': '2014',\n",
       " '21': '9',\n",
       " '22': '450',\n",
       " '23': 'Peter Jackson',\n",
       " '24': 'Four By Two Productions'}"
      ]
     },
     "execution_count": 51,
     "metadata": {},
     "output_type": "execute_result"
    }
   ],
   "source": [
    "films_pcs = data.copy()\n",
    "films_pcs.production_companies = films_pcs.production_companies.str.split('|') \n",
    "# превращаем списки компаний в строки\n",
    "films_pcs = films_pcs.explode('production_companies')   \n",
    "\n",
    "# считаем длину названия и заносим в новый столбец\n",
    "films_pcs['title_len'] = films_pcs[\"original_title\"].str.len()\n",
    "\n",
    "# группируя по компаниям, считаем среднюю длину названий фильмов, соритруем по убыванию это длины\n",
    "films_pcs = films_pcs.groupby('production_companies').mean()[['title_len']].sort_values(by='title_len',ascending=False)\n",
    "\n",
    "# берём первую строку\n",
    "studio = films_pcs.index[0]\n",
    "\n",
    "# средняя длина заголовка фильма\n",
    "films_cnt = films_pcs.iloc[0].to_string(header=False, index=False)\n",
    "\n",
    "print('Студия \"', studio, '\" даёт смамые длинные навания своим фильмам по количеству символов: в среднем -', films_cnt,'символов')\n",
    "\n",
    "answers['24'] = str(studio) \n",
    "answers\n",
    "\n"
   ]
  },
  {
   "cell_type": "markdown",
   "metadata": {
    "colab_type": "text",
    "id": "9G0hbvR7VqAK"
   },
   "source": [
    "# 25. Описание фильмов какой студии в среднем самые длинные по количеству слов?"
   ]
  },
  {
   "cell_type": "code",
   "execution_count": 54,
   "metadata": {
    "colab": {},
    "colab_type": "code",
    "id": "Ge2GsLNxVqAK"
   },
   "outputs": [
    {
     "name": "stdout",
     "output_type": "stream",
     "text": [
      "Студия Midnight Picture Show даёт самые длинные описания сврим фильмам: в среднем -  175.0 слов\n"
     ]
    },
    {
     "data": {
      "text/plain": [
       "{'1': '723    Pirates of the Caribbean: On Stranger Tides',\n",
       " '2': '1157    Gods and Generals',\n",
       " '3': '768    Winnie the Pooh',\n",
       " '4': 110.0,\n",
       " '5': 107,\n",
       " '6': '239    Avatar',\n",
       " '7': '1245    The Lone Ranger',\n",
       " '8': '1478',\n",
       " '9': '599    The Dark Knight',\n",
       " '10': '1245    The Lone Ranger',\n",
       " '11': \"[('Drama', 782)]\",\n",
       " '11.2': 'Drama',\n",
       " '12': 'Drama',\n",
       " '13': 'Peter Jackson',\n",
       " '14': 'Robert Rodriguez',\n",
       " '15': 'Chris Hemsworth',\n",
       " '16': 'Matt Damon',\n",
       " '17': 'Action',\n",
       " '18': ' K-19: The Widowmaker',\n",
       " '19': '2015',\n",
       " '20': '2014',\n",
       " '21': '9',\n",
       " '22': '450',\n",
       " '23': 'Peter Jackson',\n",
       " '24': 'Four By Two Productions',\n",
       " '25': 'Midnight Picture Show',\n",
       " '26': ['Inside Out', 'The Dark Knight', '12 Years a Slave']}"
      ]
     },
     "execution_count": 54,
     "metadata": {},
     "output_type": "execute_result"
    }
   ],
   "source": [
    "films_pcs = data.copy()\n",
    "films_pcs.production_companies = films_pcs.production_companies.str.split('|') \n",
    "films_pcs = films_pcs.explode('production_companies')   \n",
    "\n",
    "# новое поле с длиной описания в словах (разделяем строку по пробелам)\n",
    "films_pcs['overview_words'] = films_pcs[\"overview\"].str.split().apply(len)\n",
    "\n",
    "#print(films_pcs.overview_words)\n",
    "\n",
    "# сортируем список по среднему количеству слов\n",
    "films_pcs = films_pcs.groupby('production_companies').mean()[['overview_words']].sort_values(by='overview_words',ascending=False)\n",
    "\n",
    "# Студия, в описаниях фильмов которой, в среднем больше всего слов \n",
    "studio = films_pcs.index[0]\n",
    "\n",
    "# Количество слов в среднем в описании фильмов этой студии\n",
    "max_overview_len = films_pcs.iloc[0].to_string(header=False, index=False)\n",
    "\n",
    "print('Студия', studio, 'даёт самые длинные описания сврим фильмам: в среднем -', max_overview_len,'слов')\n",
    "\n",
    "answers['25'] = str(studio) \n",
    "answers\n"
   ]
  },
  {
   "cell_type": "markdown",
   "metadata": {
    "colab_type": "text",
    "id": "FJ1AFt90VqAP"
   },
   "source": [
    "# 26. Какие фильмы входят в 1 процент лучших по рейтингу? \n",
    "по vote_average"
   ]
  },
  {
   "cell_type": "code",
   "execution_count": 56,
   "metadata": {
    "colab": {},
    "colab_type": "code",
    "id": "8qmJVq4CVqAQ"
   },
   "outputs": [
    {
     "name": "stdout",
     "output_type": "stream",
     "text": [
      "Фильмы (из указанных в ответах): \n",
      "['Inside Out', 'The Dark Knight', '12 Years a Slave']\n",
      "- входят в 1 процент лучших по рейтингу\n"
     ]
    },
    {
     "data": {
      "text/plain": [
       "{'1': '723    Pirates of the Caribbean: On Stranger Tides',\n",
       " '2': '1157    Gods and Generals',\n",
       " '3': '768    Winnie the Pooh',\n",
       " '4': 110.0,\n",
       " '5': 107,\n",
       " '6': '239    Avatar',\n",
       " '7': '1245    The Lone Ranger',\n",
       " '8': '1478',\n",
       " '9': '599    The Dark Knight',\n",
       " '10': '1245    The Lone Ranger',\n",
       " '11': \"[('Drama', 782)]\",\n",
       " '11.2': 'Drama',\n",
       " '12': 'Drama',\n",
       " '13': 'Peter Jackson',\n",
       " '14': 'Robert Rodriguez',\n",
       " '15': 'Chris Hemsworth',\n",
       " '16': 'Matt Damon',\n",
       " '17': 'Action',\n",
       " '18': ' K-19: The Widowmaker',\n",
       " '19': '2015',\n",
       " '20': '2014',\n",
       " '21': '9',\n",
       " '22': '450',\n",
       " '23': 'Peter Jackson',\n",
       " '24': 'Four By Two Productions',\n",
       " '25': 'Midnight Picture Show',\n",
       " '26': ['Inside Out', 'The Dark Knight', '12 Years a Slave']}"
      ]
     },
     "execution_count": 56,
     "metadata": {},
     "output_type": "execute_result"
    }
   ],
   "source": [
    "films_rates = data.copy()\n",
    "\n",
    "# Список фильмы из ответов, нужен для сравнения двух списков\n",
    "answ_films = [['Inside Out', 'The Dark Knight', '12 Years a Slave'], \n",
    "              ['BloodRayne', 'The Adventures of Rocky & Bullwinkle'],\n",
    "              ['Batman Begins', 'The Lord of the Rings: The Return of the King', 'Upside Down'],\n",
    "              ['300', 'Lucky Number Slevin', 'Kill Bill: Vol. 1'],\n",
    "              ['Upside Down', 'Inside Out', 'Iron Man']]\n",
    "\n",
    "# Находим 99 процентиль по рейтингу фильмов\n",
    "p = np.percentile(films_rates.vote_average, 99)\n",
    "\n",
    "# Сравнивам рейтинг фильмов с этим процентилем\n",
    "best_rating_films = films_rates.loc[lambda x: x['vote_average'] >= p]\n",
    "res = ''\n",
    "\n",
    "# Сравниваем список из ответов с полученными списком: \n",
    "#  если список из ответов является подсписком найденного списка с высоким рейтингом, он и будет ответом \n",
    "for films in answ_films:\n",
    "    #print(films)\n",
    "    if(set(films).issubset(set(best_rating_films.original_title))):\n",
    "        res = films\n",
    "\n",
    "#print(best_rating_films.original_title)\n",
    "        \n",
    "print('Фильмы (из указанных в ответах): ')\n",
    "print(res)\n",
    "print('- входят в 1 процент лучших по рейтингу')\n",
    "\n",
    "answers['26'] = res\n",
    "answers\n"
   ]
  },
  {
   "cell_type": "markdown",
   "metadata": {
    "colab_type": "text",
    "id": "MdXsUXbCVqAV"
   },
   "source": [
    "# 27. Какие актеры чаще всего снимаются в одном фильме вместе?\n"
   ]
  },
  {
   "cell_type": "code",
   "execution_count": 126,
   "metadata": {},
   "outputs": [
    {
     "name": "stdout",
     "output_type": "stream",
     "text": [
      "Актёры  [('Daniel Radcliffe', 'Emma Watson'), ('Daniel Radcliffe', 'Rupert Grint'), ('Emma Watson', 'Rupert Grint')]  чаще всего снимаются в одном фильме: снялись в  8  фильмах\n"
     ]
    },
    {
     "data": {
      "text/plain": [
       "{'1': '723    Pirates of the Caribbean: On Stranger Tides',\n",
       " '2': '1157    Gods and Generals',\n",
       " '3': '768    Winnie the Pooh',\n",
       " '4': 110.0,\n",
       " '5': 107,\n",
       " '6': '239    Avatar',\n",
       " '7': '1245    The Lone Ranger',\n",
       " '8': '1478',\n",
       " '9': '599    The Dark Knight',\n",
       " '10': '1245    The Lone Ranger',\n",
       " '11': 'Drama',\n",
       " '12': 'Drama',\n",
       " '13': 'Peter Jackson',\n",
       " '14': 'Robert Rodriguez',\n",
       " '15': 'Chris Hemsworth',\n",
       " '16': 'Matt Damon',\n",
       " '17': 'Action',\n",
       " '18': ' K-19: The Widowmaker',\n",
       " '19': '2015',\n",
       " '20': '2014',\n",
       " '21': '9',\n",
       " '22': '450',\n",
       " '23': 'Peter Jackson',\n",
       " '24': 'Four By Two Productions',\n",
       " '25': 'Midnight Picture Show',\n",
       " '26': ['Inside Out', 'The Dark Knight', '12 Years a Slave'],\n",
       " '27': [('Daniel Radcliffe', 'Emma Watson'),\n",
       "  ('Daniel Radcliffe', 'Rupert Grint'),\n",
       "  ('Emma Watson', 'Rupert Grint')]}"
      ]
     },
     "execution_count": 126,
     "metadata": {},
     "output_type": "execute_result"
    }
   ],
   "source": [
    "actors = data.copy()\n",
    "actors.cast = actors.cast.str.split('|') # строку с актёрами превращаем в список\n",
    "\n",
    "# создаём словаь для ответа\n",
    "counts = col.defaultdict(int) \n",
    "\n",
    "# по всем спискам актёров \n",
    "for collact in actors.cast: \n",
    "    collact.sort() \n",
    "    # по всем комбинациям пар актёров\n",
    "    for pair in itertools.combinations(collact, 2): \n",
    "        # считаем количество встречаемости данной пары\n",
    "        counts[pair] += 1\n",
    "\n",
    "# сортируем полученный массив по убыванию 2 поля (количество)\n",
    "sorted_array = sorted(counts.items(), key=lambda item: (item[1]), reverse=True)\n",
    "\n",
    "# Максимальная частота встречаемости - 0 элемент массива, 1 поле\n",
    "max_films = sorted_array[:1][0][1]\n",
    "\n",
    "# Пары, у которых встречаемость - максимальная\n",
    "res = [a for a, c in sorted_array if c == max_films]\n",
    "#print(res)\n",
    "\n",
    "print('Актёры ', res, ' чаще всего снимаются в одном фильме: снялись в ', max_films,' фильмах')\n",
    "\n",
    "answers['27'] = res\n",
    "answers\n"
   ]
  },
  {
   "cell_type": "markdown",
   "metadata": {
    "colab_type": "text",
    "id": "U0nONFnGVqAX"
   },
   "source": [
    "# Submission"
   ]
  },
  {
   "cell_type": "code",
   "execution_count": 127,
   "metadata": {
    "colab": {},
    "colab_type": "code",
    "id": "IfcaRO9-VqAX",
    "outputId": "0f132912-32bb-4196-c98c-abfbc4ad5a5f"
   },
   "outputs": [
    {
     "data": {
      "text/plain": [
       "{'1': '723    Pirates of the Caribbean: On Stranger Tides',\n",
       " '2': '1157    Gods and Generals',\n",
       " '3': '768    Winnie the Pooh',\n",
       " '4': 110.0,\n",
       " '5': 107,\n",
       " '6': '239    Avatar',\n",
       " '7': '1245    The Lone Ranger',\n",
       " '8': '1478',\n",
       " '9': '599    The Dark Knight',\n",
       " '10': '1245    The Lone Ranger',\n",
       " '11': 'Drama',\n",
       " '12': 'Drama',\n",
       " '13': 'Peter Jackson',\n",
       " '14': 'Robert Rodriguez',\n",
       " '15': 'Chris Hemsworth',\n",
       " '16': 'Matt Damon',\n",
       " '17': 'Action',\n",
       " '18': ' K-19: The Widowmaker',\n",
       " '19': '2015',\n",
       " '20': '2014',\n",
       " '21': '9',\n",
       " '22': '450',\n",
       " '23': 'Peter Jackson',\n",
       " '24': 'Four By Two Productions',\n",
       " '25': 'Midnight Picture Show',\n",
       " '26': ['Inside Out', 'The Dark Knight', '12 Years a Slave'],\n",
       " '27': [('Daniel Radcliffe', 'Emma Watson'),\n",
       "  ('Daniel Radcliffe', 'Rupert Grint'),\n",
       "  ('Emma Watson', 'Rupert Grint')]}"
      ]
     },
     "execution_count": 127,
     "metadata": {},
     "output_type": "execute_result"
    }
   ],
   "source": [
    "# в конце можно посмотреть свои ответы к каждому вопросу\n",
    "answers"
   ]
  },
  {
   "cell_type": "code",
   "execution_count": 128,
   "metadata": {
    "colab": {},
    "colab_type": "code",
    "id": "SiRmHPl8VqAd"
   },
   "outputs": [
    {
     "data": {
      "text/plain": [
       "27"
      ]
     },
     "execution_count": 128,
     "metadata": {},
     "output_type": "execute_result"
    }
   ],
   "source": [
    "# и убедиться что ни чего не пропустил)\n",
    "len(answers)"
   ]
  },
  {
   "cell_type": "code",
   "execution_count": 0,
   "metadata": {
    "colab": {},
    "colab_type": "code",
    "id": "uCfuTkRbVqAg"
   },
   "outputs": [],
   "source": []
  },
  {
   "cell_type": "code",
   "execution_count": 0,
   "metadata": {
    "colab": {},
    "colab_type": "code",
    "id": "Vwx3NrkSVqAl"
   },
   "outputs": [],
   "source": []
  }
 ],
 "metadata": {
  "colab": {
   "name": "Copy of [SF-DST] Movies IMBD v4.1 TEMPLATE.ipynb",
   "provenance": []
  },
  "kernelspec": {
   "display_name": "Python 3",
   "language": "python",
   "name": "python3"
  },
  "language_info": {
   "codemirror_mode": {
    "name": "ipython",
    "version": 3
   },
   "file_extension": ".py",
   "mimetype": "text/x-python",
   "name": "python",
   "nbconvert_exporter": "python",
   "pygments_lexer": "ipython3",
   "version": "3.8.5"
  }
 },
 "nbformat": 4,
 "nbformat_minor": 1
}
