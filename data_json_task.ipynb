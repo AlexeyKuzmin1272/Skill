{
 "cells": [
  {
   "cell_type": "code",
   "execution_count": 29,
   "metadata": {},
   "outputs": [
    {
     "name": "stdout",
     "output_type": "stream",
     "text": [
      "Ключей в словаре:  51\n",
      "Клиент 60459 совершил 12 действий\n",
      "Клиент 62602 совершил 9 действие с категорией \"page\"\n",
      "3 уникальных клиентов совершили действия с категорией (category) = report\n"
     ]
    },
    {
     "data": {
      "text/plain": [
       "[58113, 60459, 62602]"
      ]
     },
     "execution_count": 29,
     "metadata": {},
     "output_type": "execute_result"
    }
   ],
   "source": [
    "import json\n",
    "import collections\n",
    "\n",
    "#читаем содержимое файла в data\n",
    "with open('data.json', 'rb') as infile:\n",
    "    data = json.load(infile)\n",
    "#print (data)\n",
    "\n",
    "#заполняем массив data_list данными из массива data['events_data']\n",
    "data_list = data['events_data']\n",
    "\n",
    "acts = []\n",
    "clients = []\n",
    "pages = []\n",
    "reports = []\n",
    "for items in data_list:\n",
    "    acts.append(items['action'])\n",
    "    clients.append(items['client_id'])\n",
    "    if items['category'] == 'page':\n",
    "        pages.append(items['client_id'])        \n",
    "    if items['category'] == 'report':\n",
    "        reports.append(items['client_id'])        \n",
    "        \n",
    "    #print(items['action'])\n",
    "    #print(items['client_id'])\n",
    "\n",
    "c = collections.Counter()\n",
    "p = collections.Counter()\n",
    "r = collections.Counter()\n",
    "\n",
    "\n",
    "for client in clients:\n",
    "    c[client] += 1\n",
    "    #print(client['client_id'])\n",
    "\n",
    "for page in pages:\n",
    "    p[page] += 1\n",
    "\n",
    "for rep in reports:\n",
    "    r[rep] += 1\n",
    "    \n",
    "#Подсчитайте количество клиентов (client_id), которые совершали какие-либо действия\n",
    "print ('Ключей в словаре: ', len(c.keys()))\n",
    "\n",
    "# Сколько действий совершил клиент (client_id) под номером 60459?\n",
    "print ('Клиент 60459 совершил', c[60459], 'действий')\n",
    "\n",
    "# Сколько действий с категорией (category) = page совершил клиент под номером 62602?\n",
    "print ('Клиент 62602 совершил', p[62602], 'действие с категорией \"page\"')\n",
    "\n",
    "#Сколько уникальных клиентов совершили действия с категорией (category) = report\n",
    "print (len(list(r)),'уникальных клиентов совершили действия с категорией (category) = report')\n",
    "\n",
    "#Перечислите в каждом из полей идентификаторы клиентов, которые совершили действия с категорией (category) = report \n",
    "#(В порядке возрастания идентификаторов)\n",
    "sorted(r)\n"
   ]
  },
  {
   "cell_type": "code",
   "execution_count": null,
   "metadata": {},
   "outputs": [],
   "source": []
  }
 ],
 "metadata": {
  "kernelspec": {
   "display_name": "Python 3",
   "language": "python",
   "name": "python3"
  },
  "language_info": {
   "codemirror_mode": {
    "name": "ipython",
    "version": 3
   },
   "file_extension": ".py",
   "mimetype": "text/x-python",
   "name": "python",
   "nbconvert_exporter": "python",
   "pygments_lexer": "ipython3",
   "version": "3.8.5"
  }
 },
 "nbformat": 4,
 "nbformat_minor": 4
}
