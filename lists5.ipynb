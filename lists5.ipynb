{
 "cells": [
  {
   "cell_type": "code",
   "execution_count": 1,
   "metadata": {},
   "outputs": [
    {
     "name": "stdout",
     "output_type": "stream",
     "text": [
      "Число городов со сложными названиями - 3\n"
     ]
    }
   ],
   "source": [
    "city_list = ['Москва', 'Санкт-Петербург', 'Новосибирск', \n",
    "             'Екатеринбург', 'Нижний Новгород', 'Казань', \n",
    "             'Челябинск', 'Омск', 'Самара', 'Ростов-на-Дону']\n",
    "counter = 0\n",
    "for city in city_list:\n",
    "    if ' ' in city or '-' in city:\n",
    "        counter += 1\n",
    "print('Число городов со сложными названиями - {}'.format(counter))\n"
   ]
  },
  {
   "cell_type": "code",
   "execution_count": 4,
   "metadata": {},
   "outputs": [
    {
     "name": "stdout",
     "output_type": "stream",
     "text": [
      "skillfactory.ru\n"
     ]
    }
   ],
   "source": [
    "email = 'VeryBigBoss@skillfactory.ru'\n",
    "pos = email.find('@')\n",
    "domain = email[pos+1:]\n",
    "print(domain)"
   ]
  },
  {
   "cell_type": "code",
   "execution_count": 5,
   "metadata": {},
   "outputs": [
    {
     "name": "stdout",
     "output_type": "stream",
     "text": [
      "4\n"
     ]
    }
   ],
   "source": [
    "tongue_twister = 'Ехал Грека через реку, видит Грека - в реке рак. Сунул Грека руку в реку, рак за руку Греку - цап!'\n",
    "counter = tongue_twister.count('Грек')\n",
    "print(counter)"
   ]
  },
  {
   "cell_type": "code",
   "execution_count": 6,
   "metadata": {},
   "outputs": [
    {
     "name": "stdout",
     "output_type": "stream",
     "text": [
      "3\n"
     ]
    }
   ],
   "source": [
    "proverbs = ['Без труда не вытянешь и рыбку из пруда', \n",
    "            'Терпение и труд всё перетрут', \n",
    "            'Работа не волк - в лес не убежит', \n",
    "            'Чем труднее дело, тем выше честь', \n",
    "            'Учиться, учиться и учиться!']\n",
    "\n",
    "counter = 0\n",
    "for proverb in proverbs:\n",
    "    if 'труд' in proverb:\n",
    "        counter += 1\n",
    "print (counter)"
   ]
  },
  {
   "cell_type": "code",
   "execution_count": 8,
   "metadata": {},
   "outputs": [
    {
     "name": "stdout",
     "output_type": "stream",
     "text": [
      "написанная\n",
      "это\n"
     ]
    }
   ],
   "source": [
    "proverb = 'Хорошо написанная программа - это программа, написанная 2 раза'\n",
    "\n",
    "while True:\n",
    "    index = proverb.find('программа')\n",
    "    if index == -1:\n",
    "        break\n",
    "    secret = proverb[:index].split()[-1]\n",
    "    proverb = proverb[index+9:]\n",
    "    print(secret)"
   ]
  },
  {
   "cell_type": "code",
   "execution_count": 11,
   "metadata": {},
   "outputs": [
    {
     "name": "stdout",
     "output_type": "stream",
     "text": [
      "gmail.com\n"
     ]
    }
   ],
   "source": [
    "email='alexey.kuzmin@gmail.com' \n",
    "print(email[email.find('@')+1:])"
   ]
  },
  {
   "cell_type": "markdown",
   "metadata": {},
   "source": [
    "#Дано вещественное число. \n",
    "#Напишите программу, которая считает сумму цифр дробной части числа. \n",
    "#Результат вычислений нужно вывести на экран с помощью функции print\n",
    "\n",
    "#Используйте переменную number = 56.257 для хранения заданного числа и не меняйте её в процессе выполнения кода.\n",
    "number = 56.257\n",
    "print(number.find('.'))"
   ]
  },
  {
   "cell_type": "code",
   "execution_count": 19,
   "metadata": {},
   "outputs": [
    {
     "name": "stdout",
     "output_type": "stream",
     "text": [
      "257\n",
      "14\n"
     ]
    }
   ],
   "source": [
    "#Дано вещественное число. \n",
    "#Напишите программу, которая считает сумму цифр дробной части числа. \n",
    "#Результат вычислений нужно вывести на экран с помощью функции print\n",
    "\n",
    "#Используйте переменную number = 56.257 для хранения заданного числа и не меняйте её в процессе выполнения кода. \n",
    "number = 56.257 \n",
    "numstr = str(number)\n",
    "#print(numstr)\n",
    "#print(numstr.find('.'))\n",
    "print(numstr[numstr.find('.')+1:])\n",
    "res = 0\n",
    "for d in numstr[numstr.find('.')+1:]:\n",
    "    res = res + int(d)\n",
    "print(res)"
   ]
  },
  {
   "cell_type": "code",
   "execution_count": 40,
   "metadata": {},
   "outputs": [
    {
     "name": "stdout",
     "output_type": "stream",
     "text": [
      "vasya@mail.ru\n",
      "mail.ru\n",
      "1\n",
      "---------------------\n",
      "akakiy@yandex.ru\n",
      "yandex.ru\n",
      "1\n",
      "---------------------\n",
      "spyderman@yandex.ru\n",
      "yandex.ru\n",
      "2\n",
      "---------------------\n",
      "XFiles@gmail.com\n",
      "gmail.com\n",
      "1\n",
      "---------------------\n",
      "hello@mail.ru\n",
      "mail.ru\n",
      "2\n",
      "---------------------\n",
      "noname@gmail.com\n",
      "gmail.com\n",
      "2\n",
      "---------------------\n",
      "DonaldTrump@mail.ru\n",
      "mail.ru\n",
      "3\n",
      "---------------------\n",
      "a768#af@yandex.ru\n",
      "yandex.ru\n",
      "3\n",
      "---------------------\n",
      "Ivan_Ivanovich@yandex.ru\n",
      "yandex.ru\n",
      "4\n",
      "---------------------\n",
      "thebestmail@yandex.ru\n",
      "yandex.ru\n",
      "5\n",
      "---------------------\n"
     ]
    }
   ],
   "source": [
    "#написать программу, которая создаёт словарь emails_dict .\n",
    "#Ключами словаря должны быть адреса доменов, а значениями — количество электронных адресов из списка emails_list, \n",
    "#зарегистрированных на каждом домене.\n",
    "emails_list = ['vasya@mail.ru', \n",
    "          'akakiy@yandex.ru', \n",
    "          'spyderman@yandex.ru', \n",
    "          'XFiles@gmail.com', \n",
    "          'hello@mail.ru', \n",
    "          'noname@gmail.com', \n",
    "          'DonaldTrump@mail.ru', \n",
    "          'a768#af@yandex.ru', \n",
    "          'Ivan_Ivanovich@yandex.ru', \n",
    "          'thebestmail@yandex.ru']\n",
    "i = 0\n",
    "emails_dict = {} # dict ()\n",
    "for email in emails_list:\n",
    "    print(emails_list[i])\n",
    "    domain = email[email.find('@')+1:]\n",
    "    print (domain)\n",
    "    i += 1\n",
    "    if domain in emails_dict:\n",
    "        emails_dict[domain] += 1\n",
    "    else:\n",
    "        #print ('domain')\n",
    "        emails_dict[domain] = 1\n",
    "    print (emails_dict[domain])    \n",
    "    #print ('---------------------')\n",
    "    \n"
   ]
  },
  {
   "cell_type": "code",
   "execution_count": null,
   "metadata": {},
   "outputs": [],
   "source": []
  }
 ],
 "metadata": {
  "kernelspec": {
   "display_name": "Python 3",
   "language": "python",
   "name": "python3"
  },
  "language_info": {
   "codemirror_mode": {
    "name": "ipython",
    "version": 3
   },
   "file_extension": ".py",
   "mimetype": "text/x-python",
   "name": "python",
   "nbconvert_exporter": "python",
   "pygments_lexer": "ipython3",
   "version": "3.8.5"
  }
 },
 "nbformat": 4,
 "nbformat_minor": 4
}
